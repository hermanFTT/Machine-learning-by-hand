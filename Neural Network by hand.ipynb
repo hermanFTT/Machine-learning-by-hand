{
 "cells": [
  {
   "cell_type": "markdown",
   "metadata": {
    "id": "cnpeizB9G2EG"
   },
   "source": [
    "#Header\n",
    "\n",
    "## Herman Franclin Tesso Tassang\n",
    "\n"
   ]
  },
  {
   "cell_type": "markdown",
   "metadata": {
    "id": "nQxeG-Ix4IY-"
   },
   "source": [
    "# Setup"
   ]
  },
  {
   "cell_type": "code",
   "execution_count": null,
   "metadata": {
    "id": "-F61XX6bUreI"
   },
   "outputs": [],
   "source": [
    "import numpy as np\n",
    "import pandas as pd\n",
    "import random\n",
    "import math\n",
    "np.random.seed(42)\n",
    "\n",
    "import matplotlib.pyplot as plt\n",
    "FONTSIZE = 16\n",
    "params = {\n",
    "         'figure.figsize' : (6,6),\n",
    "         'axes.labelsize' : FONTSIZE,\n",
    "         'axes.titlesize' : FONTSIZE+2,\n",
    "         'legend.fontsize': FONTSIZE,\n",
    "         'xtick.labelsize': FONTSIZE,\n",
    "         'ytick.labelsize': FONTSIZE,\n",
    "         'xtick.color'    : 'black',\n",
    "         'ytick.color'    : 'black',\n",
    "         'axes.facecolor' : 'white',\n",
    "         'axes.edgecolor' : 'black',\n",
    "         'axes.titlepad'  :  20,\n",
    "         'axes.labelpad'  :  10}\n",
    "plt.rcParams.update(params)\n",
    "\n",
    "XNAME = 'x1'; XLABEL = r'$x_1$'\n",
    "YNAME = 'x2'; YLABEL = r'$x_2$'\n",
    "RANGE = (-6, 6); STEP = 0.1\n",
    "\n",
    "def predict(output_node, boundary_value):\n",
    "  output_node.reshape(-1, 1, 1) # a list (m, 1, 1)\n",
    "  predictions = np.array(output_node > boundary_value, dtype=int)\n",
    "  return predictions\n",
    "\n",
    "def plot_cost_vs_iter(train_costs, test_costs, title=\"Cost evolution\"):\n",
    "\n",
    "  fig, ax = plt.subplots(figsize=(8, 6))\n",
    "  iters = np.arange(1,len(train_costs)+1)\n",
    "  ax.plot(iters, train_costs, color='red', lw=1, label='Training set')\n",
    "  ax.plot(iters, test_costs, color='blue', lw=1, label='Testing set')\n",
    "  ax.set_xlabel(\"Number of iterations\"); ax.set_xlim(1, iters[-1])\n",
    "  ax.set_ylabel(\"Cost\")\n",
    "  ax.legend(loc=\"upper right\", frameon=False)\n",
    "  ax.set_title(title)\n",
    "  plt.show()\n",
    "\n",
    "\n",
    "def get_decision_surface(weights, biases, boundary=0.5, range=RANGE, step=STEP):\n",
    "\n",
    "  # Create a grid of points spanning the parameter space:\n",
    "  x1v, x2v = np.meshgrid(np.arange(range[0], range[1]+step, step),\n",
    "                         np.arange(range[0], range[1]+step, step))\n",
    "\n",
    "  # Stack it so that it is shaped like X_train: (m,2)\n",
    "  X_grid = np.c_[x1v.ravel(), x2v.ravel()].reshape(-1,2)\n",
    "\n",
    "  # Feedforward on all grid points and get binary predictions:\n",
    "  output = feedforward(X_grid, weights, biases)[-1] # getting only output node\n",
    "  Ypred_grid = predict(output, boundary)\n",
    "\n",
    "  return (x1v, x2v, Ypred_grid.reshape(x1v.shape))\n",
    "\n",
    "\n",
    "def plot_scatter(sig, bkg, ds=None, xname=XNAME, xlabel=XLABEL, yname=YNAME, ylabel=YLABEL, range=RANGE, step=STEP, title=\"Scatter plot\"):\n",
    "\n",
    "  fig, ax = plt.subplots()\n",
    "\n",
    "  # Decision surface\n",
    "  if ds:\n",
    "    (xx, yy, Z) = ds # unpack contour data\n",
    "    cs = plt.contourf(xx, yy, Z, levels=[0,0.5,1], colors=['orange','dodgerblue'], alpha=0.3)\n",
    "\n",
    "  # Scatter signal and background:\n",
    "  ax.scatter(sig[xname], sig[yname], marker='o', s=10, c='dodgerblue', alpha=1, label='Positive class')\n",
    "  ax.scatter(bkg[xname], bkg[yname], marker='o', s=10, c='orange',     alpha=1, label='Negative class')\n",
    "\n",
    "  # Axes, legend and plot:\n",
    "  ax.set_xlim(range); ax.set_xlabel(xlabel)\n",
    "  ax.set_ylim(range); ax.set_ylabel(ylabel)\n",
    "\n",
    "  ax.legend(bbox_to_anchor=(1.04, 0.5), loc=\"center left\", frameon=False)\n",
    "  ax.set_title(title)\n",
    "  plt.show()"
   ]
  },
  {
   "cell_type": "markdown",
   "metadata": {
    "id": "B9fLaPJmWl-d"
   },
   "source": [
    "# 1. Get the Data"
   ]
  },
  {
   "cell_type": "code",
   "execution_count": null,
   "metadata": {
    "colab": {
     "base_uri": "https://localhost:8080/"
    },
    "id": "GKwtI6YIWlTI",
    "outputId": "aebc60e9-e615-42a7-ee44-accd438ea15b"
   },
   "outputs": [
    {
     "name": "stdout",
     "output_type": "stream",
     "text": [
      "Mounted at /content/gdrive\n"
     ]
    }
   ],
   "source": [
    "from google.colab import drive\n",
    "drive.mount('/content/gdrive')"
   ]
  },
  {
   "cell_type": "code",
   "execution_count": null,
   "metadata": {
    "colab": {
     "base_uri": "https://localhost:8080/",
     "height": 261
    },
    "id": "m9piEKHaXTEj",
    "outputId": "951ff6b3-f788-4823-de63-1704d2e35bb5"
   },
   "outputs": [
    {
     "name": "stdout",
     "output_type": "stream",
     "text": [
      "shape of the train dataset:(320, 3)\n",
      "\n",
      "shape of the test dataset:(80, 3)\n"
     ]
    },
    {
     "data": {
      "application/vnd.google.colaboratory.intrinsic+json": {
       "summary": "{\n  \"name\": \"train\",\n  \"rows\": 320,\n  \"fields\": [\n    {\n      \"column\": \"x1\",\n      \"properties\": {\n        \"dtype\": \"number\",\n        \"std\": 3.614816337671231,\n        \"min\": -5.940720228787084,\n        \"max\": 5.992964709248,\n        \"num_unique_values\": 320,\n        \"samples\": [\n          -0.5934703762788782,\n          5.631630427429187,\n          5.692737691993997\n        ],\n        \"semantic_type\": \"\",\n        \"description\": \"\"\n      }\n    },\n    {\n      \"column\": \"x2\",\n      \"properties\": {\n        \"dtype\": \"number\",\n        \"std\": 3.4830297555395147,\n        \"min\": -5.944415723944766,\n        \"max\": 5.996612079433568,\n        \"num_unique_values\": 320,\n        \"samples\": [\n          -4.45008701818206,\n          0.2771741300417858,\n          5.834528933755234\n        ],\n        \"semantic_type\": \"\",\n        \"description\": \"\"\n      }\n    },\n    {\n      \"column\": \"class\",\n      \"properties\": {\n        \"dtype\": \"number\",\n        \"std\": 0,\n        \"min\": 0,\n        \"max\": 1,\n        \"num_unique_values\": 2,\n        \"samples\": [\n          1,\n          0\n        ],\n        \"semantic_type\": \"\",\n        \"description\": \"\"\n      }\n    }\n  ]\n}",
       "type": "dataframe",
       "variable_name": "train"
      },
      "text/html": [
       "\n",
       "  <div id=\"df-419a9343-67e2-47e7-8bae-0a89e1bcf786\" class=\"colab-df-container\">\n",
       "    <div>\n",
       "<style scoped>\n",
       "    .dataframe tbody tr th:only-of-type {\n",
       "        vertical-align: middle;\n",
       "    }\n",
       "\n",
       "    .dataframe tbody tr th {\n",
       "        vertical-align: top;\n",
       "    }\n",
       "\n",
       "    .dataframe thead th {\n",
       "        text-align: right;\n",
       "    }\n",
       "</style>\n",
       "<table border=\"1\" class=\"dataframe\">\n",
       "  <thead>\n",
       "    <tr style=\"text-align: right;\">\n",
       "      <th></th>\n",
       "      <th>x1</th>\n",
       "      <th>x2</th>\n",
       "      <th>class</th>\n",
       "    </tr>\n",
       "  </thead>\n",
       "  <tbody>\n",
       "    <tr>\n",
       "      <th>0</th>\n",
       "      <td>-0.136282</td>\n",
       "      <td>3.244889</td>\n",
       "      <td>0</td>\n",
       "    </tr>\n",
       "    <tr>\n",
       "      <th>1</th>\n",
       "      <td>-5.305888</td>\n",
       "      <td>5.629232</td>\n",
       "      <td>0</td>\n",
       "    </tr>\n",
       "    <tr>\n",
       "      <th>2</th>\n",
       "      <td>-4.147647</td>\n",
       "      <td>-0.226319</td>\n",
       "      <td>1</td>\n",
       "    </tr>\n",
       "    <tr>\n",
       "      <th>3</th>\n",
       "      <td>-2.170794</td>\n",
       "      <td>3.946986</td>\n",
       "      <td>0</td>\n",
       "    </tr>\n",
       "    <tr>\n",
       "      <th>4</th>\n",
       "      <td>-5.555908</td>\n",
       "      <td>1.155239</td>\n",
       "      <td>0</td>\n",
       "    </tr>\n",
       "  </tbody>\n",
       "</table>\n",
       "</div>\n",
       "    <div class=\"colab-df-buttons\">\n",
       "\n",
       "  <div class=\"colab-df-container\">\n",
       "    <button class=\"colab-df-convert\" onclick=\"convertToInteractive('df-419a9343-67e2-47e7-8bae-0a89e1bcf786')\"\n",
       "            title=\"Convert this dataframe to an interactive table.\"\n",
       "            style=\"display:none;\">\n",
       "\n",
       "  <svg xmlns=\"http://www.w3.org/2000/svg\" height=\"24px\" viewBox=\"0 -960 960 960\">\n",
       "    <path d=\"M120-120v-720h720v720H120Zm60-500h600v-160H180v160Zm220 220h160v-160H400v160Zm0 220h160v-160H400v160ZM180-400h160v-160H180v160Zm440 0h160v-160H620v160ZM180-180h160v-160H180v160Zm440 0h160v-160H620v160Z\"/>\n",
       "  </svg>\n",
       "    </button>\n",
       "\n",
       "  <style>\n",
       "    .colab-df-container {\n",
       "      display:flex;\n",
       "      gap: 12px;\n",
       "    }\n",
       "\n",
       "    .colab-df-convert {\n",
       "      background-color: #E8F0FE;\n",
       "      border: none;\n",
       "      border-radius: 50%;\n",
       "      cursor: pointer;\n",
       "      display: none;\n",
       "      fill: #1967D2;\n",
       "      height: 32px;\n",
       "      padding: 0 0 0 0;\n",
       "      width: 32px;\n",
       "    }\n",
       "\n",
       "    .colab-df-convert:hover {\n",
       "      background-color: #E2EBFA;\n",
       "      box-shadow: 0px 1px 2px rgba(60, 64, 67, 0.3), 0px 1px 3px 1px rgba(60, 64, 67, 0.15);\n",
       "      fill: #174EA6;\n",
       "    }\n",
       "\n",
       "    .colab-df-buttons div {\n",
       "      margin-bottom: 4px;\n",
       "    }\n",
       "\n",
       "    [theme=dark] .colab-df-convert {\n",
       "      background-color: #3B4455;\n",
       "      fill: #D2E3FC;\n",
       "    }\n",
       "\n",
       "    [theme=dark] .colab-df-convert:hover {\n",
       "      background-color: #434B5C;\n",
       "      box-shadow: 0px 1px 3px 1px rgba(0, 0, 0, 0.15);\n",
       "      filter: drop-shadow(0px 1px 2px rgba(0, 0, 0, 0.3));\n",
       "      fill: #FFFFFF;\n",
       "    }\n",
       "  </style>\n",
       "\n",
       "    <script>\n",
       "      const buttonEl =\n",
       "        document.querySelector('#df-419a9343-67e2-47e7-8bae-0a89e1bcf786 button.colab-df-convert');\n",
       "      buttonEl.style.display =\n",
       "        google.colab.kernel.accessAllowed ? 'block' : 'none';\n",
       "\n",
       "      async function convertToInteractive(key) {\n",
       "        const element = document.querySelector('#df-419a9343-67e2-47e7-8bae-0a89e1bcf786');\n",
       "        const dataTable =\n",
       "          await google.colab.kernel.invokeFunction('convertToInteractive',\n",
       "                                                    [key], {});\n",
       "        if (!dataTable) return;\n",
       "\n",
       "        const docLinkHtml = 'Like what you see? Visit the ' +\n",
       "          '<a target=\"_blank\" href=https://colab.research.google.com/notebooks/data_table.ipynb>data table notebook</a>'\n",
       "          + ' to learn more about interactive tables.';\n",
       "        element.innerHTML = '';\n",
       "        dataTable['output_type'] = 'display_data';\n",
       "        await google.colab.output.renderOutput(dataTable, element);\n",
       "        const docLink = document.createElement('div');\n",
       "        docLink.innerHTML = docLinkHtml;\n",
       "        element.appendChild(docLink);\n",
       "      }\n",
       "    </script>\n",
       "  </div>\n",
       "\n",
       "\n",
       "<div id=\"df-d9f4f8ec-ff92-4c4a-b285-ca16b5a241ba\">\n",
       "  <button class=\"colab-df-quickchart\" onclick=\"quickchart('df-d9f4f8ec-ff92-4c4a-b285-ca16b5a241ba')\"\n",
       "            title=\"Suggest charts\"\n",
       "            style=\"display:none;\">\n",
       "\n",
       "<svg xmlns=\"http://www.w3.org/2000/svg\" height=\"24px\"viewBox=\"0 0 24 24\"\n",
       "     width=\"24px\">\n",
       "    <g>\n",
       "        <path d=\"M19 3H5c-1.1 0-2 .9-2 2v14c0 1.1.9 2 2 2h14c1.1 0 2-.9 2-2V5c0-1.1-.9-2-2-2zM9 17H7v-7h2v7zm4 0h-2V7h2v10zm4 0h-2v-4h2v4z\"/>\n",
       "    </g>\n",
       "</svg>\n",
       "  </button>\n",
       "\n",
       "<style>\n",
       "  .colab-df-quickchart {\n",
       "      --bg-color: #E8F0FE;\n",
       "      --fill-color: #1967D2;\n",
       "      --hover-bg-color: #E2EBFA;\n",
       "      --hover-fill-color: #174EA6;\n",
       "      --disabled-fill-color: #AAA;\n",
       "      --disabled-bg-color: #DDD;\n",
       "  }\n",
       "\n",
       "  [theme=dark] .colab-df-quickchart {\n",
       "      --bg-color: #3B4455;\n",
       "      --fill-color: #D2E3FC;\n",
       "      --hover-bg-color: #434B5C;\n",
       "      --hover-fill-color: #FFFFFF;\n",
       "      --disabled-bg-color: #3B4455;\n",
       "      --disabled-fill-color: #666;\n",
       "  }\n",
       "\n",
       "  .colab-df-quickchart {\n",
       "    background-color: var(--bg-color);\n",
       "    border: none;\n",
       "    border-radius: 50%;\n",
       "    cursor: pointer;\n",
       "    display: none;\n",
       "    fill: var(--fill-color);\n",
       "    height: 32px;\n",
       "    padding: 0;\n",
       "    width: 32px;\n",
       "  }\n",
       "\n",
       "  .colab-df-quickchart:hover {\n",
       "    background-color: var(--hover-bg-color);\n",
       "    box-shadow: 0 1px 2px rgba(60, 64, 67, 0.3), 0 1px 3px 1px rgba(60, 64, 67, 0.15);\n",
       "    fill: var(--button-hover-fill-color);\n",
       "  }\n",
       "\n",
       "  .colab-df-quickchart-complete:disabled,\n",
       "  .colab-df-quickchart-complete:disabled:hover {\n",
       "    background-color: var(--disabled-bg-color);\n",
       "    fill: var(--disabled-fill-color);\n",
       "    box-shadow: none;\n",
       "  }\n",
       "\n",
       "  .colab-df-spinner {\n",
       "    border: 2px solid var(--fill-color);\n",
       "    border-color: transparent;\n",
       "    border-bottom-color: var(--fill-color);\n",
       "    animation:\n",
       "      spin 1s steps(1) infinite;\n",
       "  }\n",
       "\n",
       "  @keyframes spin {\n",
       "    0% {\n",
       "      border-color: transparent;\n",
       "      border-bottom-color: var(--fill-color);\n",
       "      border-left-color: var(--fill-color);\n",
       "    }\n",
       "    20% {\n",
       "      border-color: transparent;\n",
       "      border-left-color: var(--fill-color);\n",
       "      border-top-color: var(--fill-color);\n",
       "    }\n",
       "    30% {\n",
       "      border-color: transparent;\n",
       "      border-left-color: var(--fill-color);\n",
       "      border-top-color: var(--fill-color);\n",
       "      border-right-color: var(--fill-color);\n",
       "    }\n",
       "    40% {\n",
       "      border-color: transparent;\n",
       "      border-right-color: var(--fill-color);\n",
       "      border-top-color: var(--fill-color);\n",
       "    }\n",
       "    60% {\n",
       "      border-color: transparent;\n",
       "      border-right-color: var(--fill-color);\n",
       "    }\n",
       "    80% {\n",
       "      border-color: transparent;\n",
       "      border-right-color: var(--fill-color);\n",
       "      border-bottom-color: var(--fill-color);\n",
       "    }\n",
       "    90% {\n",
       "      border-color: transparent;\n",
       "      border-bottom-color: var(--fill-color);\n",
       "    }\n",
       "  }\n",
       "</style>\n",
       "\n",
       "  <script>\n",
       "    async function quickchart(key) {\n",
       "      const quickchartButtonEl =\n",
       "        document.querySelector('#' + key + ' button');\n",
       "      quickchartButtonEl.disabled = true;  // To prevent multiple clicks.\n",
       "      quickchartButtonEl.classList.add('colab-df-spinner');\n",
       "      try {\n",
       "        const charts = await google.colab.kernel.invokeFunction(\n",
       "            'suggestCharts', [key], {});\n",
       "      } catch (error) {\n",
       "        console.error('Error during call to suggestCharts:', error);\n",
       "      }\n",
       "      quickchartButtonEl.classList.remove('colab-df-spinner');\n",
       "      quickchartButtonEl.classList.add('colab-df-quickchart-complete');\n",
       "    }\n",
       "    (() => {\n",
       "      let quickchartButtonEl =\n",
       "        document.querySelector('#df-d9f4f8ec-ff92-4c4a-b285-ca16b5a241ba button');\n",
       "      quickchartButtonEl.style.display =\n",
       "        google.colab.kernel.accessAllowed ? 'block' : 'none';\n",
       "    })();\n",
       "  </script>\n",
       "</div>\n",
       "    </div>\n",
       "  </div>\n"
      ],
      "text/plain": [
       "         x1        x2  class\n",
       "0 -0.136282  3.244889      0\n",
       "1 -5.305888  5.629232      0\n",
       "2 -4.147647 -0.226319      1\n",
       "3 -2.170794  3.946986      0\n",
       "4 -5.555908  1.155239      0"
      ]
     },
     "execution_count": 12,
     "metadata": {},
     "output_type": "execute_result"
    }
   ],
   "source": [
    "\n",
    "file_path1='/content/gdrive/MyDrive/Shortcut to courses materials/ML by hand/ml_a3/ml_a3_data_train.csv'\n",
    "train=pd.read_csv(file_path1)\n",
    "print('shape of the train dataset:{}'.format(train.shape))\n",
    "\n",
    "print('')\n",
    "\n",
    "file_path2='/content/gdrive/MyDrive/Shortcut to courses materials/ML by hand/ml_a3/ml_a3_data_test.csv'\n",
    "test=pd.read_csv(file_path2)\n",
    "\n",
    "print('shape of the test dataset:{}'.format(test.shape))\n",
    "train.head(5)"
   ]
  },
  {
   "cell_type": "markdown",
   "metadata": {
    "id": "OLm4JLsWhk4M"
   },
   "source": [
    "### Answer:\n",
    "* There are exactly 320 and 80 data samples in train and test dataframe respectively.\n",
    "\n",
    "* The name of the column containing the labels is \"**class**\" and  class values are $1$ (signal) and $0$ (background)."
   ]
  },
  {
   "cell_type": "markdown",
   "metadata": {
    "id": "1eg_F5XvYzKX"
   },
   "source": [
    "###1.2: Split signal vs background"
   ]
  },
  {
   "cell_type": "code",
   "execution_count": null,
   "metadata": {
    "id": "r9ToZBvgXVvZ"
   },
   "outputs": [],
   "source": [
    "sig=train[train['class']==1]\n",
    "bkg=train[train['class']==0]"
   ]
  },
  {
   "cell_type": "markdown",
   "metadata": {
    "id": "h-6-vVufaAxq"
   },
   "source": [
    "### DataFrame to numpy"
   ]
  },
  {
   "cell_type": "code",
   "execution_count": null,
   "metadata": {
    "colab": {
     "base_uri": "https://localhost:8080/"
    },
    "id": "A1VXbYwNaFAz",
    "outputId": "676cae06-ed07-4df4-e82d-5ed22594a35d"
   },
   "outputs": [
    {
     "data": {
      "text/plain": [
       "numpy.ndarray"
      ]
     },
     "execution_count": 14,
     "metadata": {},
     "output_type": "execute_result"
    }
   ],
   "source": [
    "inputs = ['x1', 'x2']\n",
    "X_train = train[inputs].values\n",
    "y_train = train['class'].values\n",
    "\n",
    "X_test = test[inputs].values\n",
    "y_test = test['class'].values\n",
    "\n",
    "type(X_train)"
   ]
  },
  {
   "cell_type": "markdown",
   "metadata": {
    "id": "nOU1WNbAa_w9"
   },
   "source": [
    "# Functions"
   ]
  },
  {
   "cell_type": "markdown",
   "metadata": {
    "id": "ihZsl06AbuQL"
   },
   "source": [
    "### 2.1 Weighted sum"
   ]
  },
  {
   "cell_type": "code",
   "execution_count": null,
   "metadata": {
    "id": "naxjH3bZaqd5"
   },
   "outputs": [],
   "source": [
    "def z( W, a , b ):\n",
    "  \"\"\"W: weights at the current layer\n",
    "  a: ouputs of the previous layer\n",
    "  b: biases vector of the current layer \"\"\"\n",
    "  return np.matmul(W,a)+b"
   ]
  },
  {
   "cell_type": "markdown",
   "metadata": {
    "id": "mt9zeeX6c89v"
   },
   "source": [
    "### 2.2: Activation Functions and Derivatives"
   ]
  },
  {
   "cell_type": "code",
   "execution_count": null,
   "metadata": {
    "id": "74mMKUB3a2i6"
   },
   "outputs": [],
   "source": [
    "def tanh(z):\n",
    "  return (np.exp(z)-np.exp(-z))/(np.exp(z)+np.exp(-z))\n",
    "\n",
    "def sigmoid(z):\n",
    "    return 1/(1+np.exp(-z))\n",
    "\n",
    "def sigmoid_prime(z):\n",
    "    return sigmoid(z)*(1-sigmoid(z))\n",
    "\n",
    "def tanh_prime(z):\n",
    "    return 1-(tanh(z))**2"
   ]
  },
  {
   "cell_type": "markdown",
   "metadata": {
    "id": "t0osJO_OgRrS"
   },
   "source": [
    "### 2.3: Cross-entropy cost function"
   ]
  },
  {
   "cell_type": "code",
   "execution_count": null,
   "metadata": {
    "id": "y4H9spasgTQB"
   },
   "outputs": [],
   "source": [
    "def cross_entropy_cost(y_preds, y_vals,eps=1e-15):\n",
    "\n",
    "  return -(1/len(y_vals))*np.sum(y_vals*np.log(y_preds+eps)+(1-y_vals)*np.log(1-y_preds+eps))"
   ]
  },
  {
   "cell_type": "markdown",
   "metadata": {
    "id": "Easu3bbkhbdt"
   },
   "source": [
    "### 2.4: Derivative of the Loss\n",
    "\n",
    "$$\n",
    "L\\left(\\hat{y}^{(i)}, y^{(i)}\\right)=-\\left\\lceil y^{(i)} \\log \\left(\\hat{y}^{(i)}\\right)+\\left(1-y^{(i)}\\right) \\log \\left(1-\\hat{y}^{(i)}\\right)\\right\\rceil\n",
    "$$\n",
    "\n",
    "\n",
    "$$ .. $$\n",
    "\n",
    "\\begin{align*}\n",
    "\\frac{\\mathrm{d}}{\\mathrm{d} \\hat{y}^{(i)}} L\\left(\\hat{y}^{(i)}, y^{(i)}\\right)&=-\\Big[ y^{(i)} (\\log){'} \\left(\\hat{y}^{(i)}\\right)+\\left(1-y^{(i)}\\right) (\\log){'} \\left(1-\\hat{y}^{(i)}\\right)\\Big]\\\\\n",
    "&=-\\Big[\\frac{y^{(i)}}{\\hat{y}^{(i)}}-\\frac{1-y^{(i)}}{1-\\hat{y}^{(i)}}\\Big]\n",
    "\\end{align*}\n"
   ]
  },
  {
   "cell_type": "code",
   "execution_count": null,
   "metadata": {
    "id": "50yJ4yxahgrb"
   },
   "outputs": [],
   "source": [
    "def L_prime(y_preds, y_obs):\n",
    "    return (1-y_obs)/(1-y_preds)-y_obs/y_preds"
   ]
  },
  {
   "cell_type": "code",
   "execution_count": null,
   "metadata": {
    "id": "VK7nsFKklADI"
   },
   "outputs": [],
   "source": [
    "def feedforward(input_X, weights, biases):\n",
    "\n",
    "  W1, W2, W3 = weights ; b1, b2, b3 = biases\n",
    "\n",
    "  m  = len(input_X)\n",
    "  a0 = input_X.reshape((m, -1, 1))\n",
    "\n",
    "  # First layer\n",
    "  z1=z(W1.T,a0,b1)\n",
    "  a1=tanh(z1)\n",
    "\n",
    "  # Second layer\n",
    "  z2=z(W2.T,a1,b2)\n",
    "  a2=tanh(z2)\n",
    "\n",
    "  # Third layer\n",
    "  z3=z(W3.T,a2,b3)\n",
    "  a3=sigmoid(z3)\n",
    "\n",
    "  nodes = [a0, z1, a1, z2, a2, z3, a3]\n",
    "\n",
    "  return nodes"
   ]
  },
  {
   "cell_type": "markdown",
   "metadata": {
    "id": "YJuR843Zn1FV"
   },
   "source": [
    "### 3.2: Predict\n",
    "\n",
    "Answer:\n",
    "\n",
    "  *  What is the output_node in the context of our 2-hidden-layered neural network?\n",
    "    * **The output node in out context is \"**a3**\"; the ouput of the last layer.**\n",
    "\n",
    "  *  What type of values does the function predict return?\n",
    "    * **The function predict return integer values: either** **0** or **1** .\n",
    "\n",
    "* After successfully executing the feedforward function, how would you call the function predict?\n",
    "  * The function predict could be call the **classifier** .\n",
    "\n"
   ]
  },
  {
   "cell_type": "code",
   "execution_count": null,
   "metadata": {
    "colab": {
     "base_uri": "https://localhost:8080/"
    },
    "id": "8mjgQGnPo610",
    "outputId": "528c401a-6e60-4114-d10e-da5afdfdb923"
   },
   "outputs": [
    {
     "name": "stdout",
     "output_type": "stream",
     "text": [
      "Starting the training\n",
      "\n",
      "a0: (320, 2, 1) a1: (320, 3, 1) a2: (320, 2, 1) a3: (320, 1, 1) \n",
      "W3: (2, 1) z1: (320, 3, 1) z2: (320, 2, 1) z3: (320, 1, 1) \n",
      "dCostdW3: (2, 1) dCostdW2: (3, 2) dCostdW1: (2, 3)\n",
      "a0: (320, 2, 1) a1: (320, 3, 1) a2: (320, 2, 1) a3: (320, 1, 1) \n",
      "W3: (2, 1) z1: (320, 3, 1) z2: (320, 2, 1) z3: (320, 1, 1) \n",
      "dCostdW3: (2, 1) dCostdW2: (3, 2) dCostdW1: (2, 3)\n",
      "Iteration 10\t Train cost = 16.5139  Test cost = 13.8155   Diff = -2.69834\n",
      "Iteration 20\t Train cost = 14.3552  Test cost = 12.0886   Diff = -2.26661\n",
      "Iteration 30\t Train cost = 16.0821  Test cost = 18.5646   Diff = 2.48247\n",
      "Iteration 40\t Train cost = 16.0821  Test cost = 18.5646   Diff = 2.48247\n",
      "Iteration 50\t Train cost = 16.0821  Test cost = 18.5646   Diff = 2.48247\n",
      "Iteration 60\t Train cost = 16.0821  Test cost = 18.5646   Diff = 2.48247\n",
      "Iteration 70\t Train cost = 16.0821  Test cost = 18.5646   Diff = 2.48247\n",
      "Iteration 80\t Train cost = 16.0821  Test cost = 18.5646   Diff = 2.48247\n",
      "Iteration 90\t Train cost = 14.3552  Test cost = 15.9742   Diff = 1.61901\n",
      "Iteration 100\t Train cost = 8.2030  Test cost = 8.2030   Diff = 0.00000\n",
      "Iteration 200\t Train cost = 0.6476  Test cost = -0.0000   Diff = -0.64760\n",
      "Iteration 300\t Train cost = 0.2159  Test cost = -0.0000   Diff = -0.21587\n",
      "Iteration 400\t Train cost = 0.2159  Test cost = -0.0000   Diff = -0.21587\n",
      "Iteration 500\t Train cost = 0.2159  Test cost = -0.0000   Diff = -0.21587\n",
      "Iteration 600\t Train cost = 0.2159  Test cost = -0.0000   Diff = -0.21587\n",
      "Iteration 700\t Train cost = 0.1079  Test cost = -0.0000   Diff = -0.10793\n",
      "Iteration 800\t Train cost = -0.0000  Test cost = -0.0000   Diff = 0.00000\n",
      "Iteration 900\t Train cost = -0.0000  Test cost = -0.0000   Diff = 0.00000\n",
      "Iteration 1000\t Train cost = -0.0000  Test cost = -0.0000   Diff = 0.00000\n",
      "Iteration 1100\t Train cost = -0.0000  Test cost = -0.0000   Diff = 0.00000\n",
      "Iteration 1200\t Train cost = -0.0000  Test cost = -0.0000   Diff = 0.00000\n",
      "Iteration 1300\t Train cost = -0.0000  Test cost = -0.0000   Diff = 0.00000\n",
      "Iteration 1400\t Train cost = -0.0000  Test cost = -0.0000   Diff = 0.00000\n",
      "Iteration 1500\t Train cost = -0.0000  Test cost = -0.0000   Diff = 0.00000\n",
      "\n",
      "End of gradient descent after 1500 iterations\n"
     ]
    }
   ],
   "source": [
    "# Hyperparameters\n",
    "alpha = 0.2\n",
    "N = 1500 # epochs\n",
    "\n",
    "# Initialization\n",
    "m = len(X_train)     # number of data samples\n",
    "n = X_train.shape[1] # number of input features\n",
    "q = 3 # number of nodes in first hidden layer\n",
    "r = 2 # number of nodes in second hidden layer\n",
    "\n",
    "# WEIGHT MATRICES + BIASES\n",
    "W1 =  np.random.normal(scale=np.sqrt(2/(n+q)), size=(n, q))  # Xavier initialization of the weights\n",
    "W2 =  np.random.normal(scale=np.sqrt(2/(q+r)), size=(q, r))\n",
    "W3 =  np.random.normal(scale=np.sqrt(2/(r+1)), size=(r, 1))\n",
    "b1 =  np.random.randn(q,1)*0.01                             # initialize biases with small numbers (close to zero)\n",
    "b2 =  np.random.randn(r,1)*0.01\n",
    "b3 =  np.random.randn(1)*0.01\n",
    "\n",
    "# OUTPUT LAYER\n",
    "y_train = np.reshape(y_train, (-1, 1, 1))\n",
    "y_test  = np.reshape(y_test , (-1, 1, 1))\n",
    "\n",
    "# Storing cost values for train and test datasets\n",
    "costs_train = []\n",
    "costs_test  = []\n",
    "debug = True\n",
    "\n",
    "print(\"Starting the training\\n\")\n",
    "\n",
    "# -------------------\n",
    "#   Start iterations\n",
    "# -------------------\n",
    "for t in range(1, N+1):\n",
    "\n",
    "  # FORWARD PROPAGATION\n",
    "  # Feedforward on test data:\n",
    "  nodes_test = feedforward(X_test, [W1,W2,W3],[b1,b2,b3])  #tanspose X_test?\n",
    "  ypreds_test = predict(output_node=nodes_test[-1], boundary_value=0.5)\n",
    "\n",
    "  # Feedforward on train data:\n",
    "  a0, z1, a1, z2, a2, z3, a3 = feedforward(X_train, [W1,W2,W3],[b1,b2,b3])\n",
    "  ypreds_train =  predict(output_node=a3, boundary_value=0.5)\n",
    "\n",
    "  # Cost computation and storage\n",
    "  J_train = cross_entropy_cost(ypreds_train, y_train)\n",
    "  J_test  = cross_entropy_cost(ypreds_test,  y_test )\n",
    "  costs_train.append(J_train)\n",
    "  costs_test.append(J_test)\n",
    "\n",
    "  if (t<=100 and t % 10 == 0) or (t>100 and t % 100 == 0):\n",
    "      print(f\"Iteration {t}\\t Train cost = {J_train:.4f}  Test cost = {J_test:.4f}   Diff = {J_test-J_train:.5f}\")\n",
    "\n",
    "  # BACKWARD PROPAGATION\n",
    "  # Errors delta:\n",
    "  delta_3 = sigmoid_prime(z3)*L_prime(a3, y_train)\n",
    "  delta_2 = tanh_prime(z2)*(np.matmul(W3,delta_3))\n",
    "  delta_1 = tanh_prime(z1)*(np.matmul(W2,delta_2))\n",
    "\n",
    "  # Partial derivatives:\n",
    "  dCostdW3 = (1/m)*np.sum(np.matmul(a2,np.transpose(delta_3,axes=(0,2,1))),axis=0)\n",
    "  dCostdW2 = (1/m)*np.sum(np.matmul(a1,np.transpose(delta_2,axes=(0,2,1))),axis=0)\n",
    "  dCostdW1 = (1/m)*np.sum(np.matmul(a0,np.transpose(delta_1,axes=(0,2,1))),axis=0)\n",
    "  dCostdb3 = (1/m)*np.sum(delta_3, axis=0)\n",
    "  dCostdb2 = (1/m)*np.sum(delta_2, axis=0)\n",
    "  dCostdb1 = (1/m)*np.sum(delta_1, axis=0)\n",
    "\n",
    "  if debug and t<3:\n",
    "    print(f\"a0: {a0.shape} a1: {a1.shape} a2: {a2.shape} a3: {a3.shape} \")\n",
    "    print(f\"W3: {W3.shape} z1: {z1.shape} z2: {z2.shape} z3: {z3.shape} \")\n",
    "    print(f\"dCostdW3: {dCostdW3.shape} dCostdW2: {dCostdW2.shape} dCostdW1: {dCostdW1.shape}\")\n",
    "\n",
    "  # Update of weights and biases\n",
    "  W3 = W3-alpha*dCostdW3\n",
    "  W2 = W2-alpha*dCostdW2\n",
    "  W1 = W1-alpha*dCostdW1\n",
    "  b3 = b3-alpha*dCostdb3\n",
    "  b2 = b2-alpha*dCostdb2\n",
    "  b1 = b1-alpha*dCostdb1\n",
    "\n",
    "print(f'\\nEnd of gradient descent after {t} iterations')"
   ]
  },
  {
   "cell_type": "markdown",
   "metadata": {
    "id": "4RHntKCWLhZo"
   },
   "source": [
    "#5. Plots"
   ]
  },
  {
   "cell_type": "markdown",
   "metadata": {
    "id": "1flWhgRZLssI"
   },
   "source": [
    "### 5.1: Cost evolution"
   ]
  },
  {
   "cell_type": "code",
   "execution_count": null,
   "metadata": {
    "colab": {
     "base_uri": "https://localhost:8080/",
     "height": 609
    },
    "id": "dL9IVYrV8wPJ",
    "outputId": "9f2f642c-a396-4905-9994-ef018a1e9b50"
   },
   "outputs": [
    {
     "data": {
      "image/png": "[encoded data removed]",
      "text/plain": [
       "<Figure size 800x600 with 1 Axes>"
      ]
     },
     "metadata": {},
     "output_type": "display_data"
    }
   ],
   "source": [
    "plot_cost_vs_iter(costs_train, costs_test, title=\"Cost evolution\")"
   ]
  },
  {
   "cell_type": "markdown",
   "metadata": {
    "id": "5NQnot3NMimX"
   },
   "source": [
    "### 5.2: Scatter Plot"
   ]
  },
  {
   "cell_type": "code",
   "execution_count": null,
   "metadata": {
    "colab": {
     "base_uri": "https://localhost:8080/",
     "height": 609
    },
    "id": "ILesKFkEhHte",
    "outputId": "14180621-cc98-420f-c41b-0e27eb0aee73"
   },
   "outputs": [
    {
     "data": {
      "image/png": "[encoded data removed]",
      "text/plain": [
       "<Figure size 600x600 with 1 Axes>"
      ]
     },
     "metadata": {},
     "output_type": "display_data"
    }
   ],
   "source": [
    "decision_surf=get_decision_surface(weights=[W1,W2,W3], biases=[b1,b2,b3], boundary=0.5, range=RANGE, step=STEP)\n",
    "\n",
    "plot_scatter(sig, bkg, ds=decision_surf)"
   ]
  },
  {
   "cell_type": "markdown",
   "metadata": {
    "id": "1wd9XEPtPwgw"
   },
   "source": [
    "My Neural network successfully learn the XOR problem"
   ]
  }
 ],
 "metadata": {
  "colab": {
   "provenance": []
  },
  "kernelspec": {
   "display_name": "Python 3 (ipykernel)",
   "language": "python",
   "name": "python3"
  },
  "language_info": {
   "codemirror_mode": {
    "name": "ipython",
    "version": 3
   },
   "file_extension": ".py",
   "mimetype": "text/x-python",
   "name": "python",
   "nbconvert_exporter": "python",
   "pygments_lexer": "ipython3",
   "version": "3.11.2"
  }
 },
 "nbformat": 4,
 "nbformat_minor": 1
}
